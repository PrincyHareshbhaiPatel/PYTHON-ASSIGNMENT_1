{
 "cells": [
  {
   "cell_type": "markdown",
   "id": "1fc5986b-f747-4d2f-9e51-eb9e32ac9f4f",
   "metadata": {},
   "source": [
    "# Q1. Create one variable containing following type of data:"
   ]
  },
  {
   "cell_type": "code",
   "execution_count": 1,
   "id": "ebbb207b-406a-4bb6-9fe2-a364dbe93b06",
   "metadata": {},
   "outputs": [],
   "source": [
    "#i\n",
    "v1=\"Princy\""
   ]
  },
  {
   "cell_type": "code",
   "execution_count": 2,
   "id": "8dd62bc8-4ba4-46c7-8ee6-7ee957d5d1c1",
   "metadata": {},
   "outputs": [],
   "source": [
    "#ii\n",
    "v2=[1,2,3,4,3.321,\"pwskills\",3+5j]"
   ]
  },
  {
   "cell_type": "code",
   "execution_count": 10,
   "id": "962ffba0-30ee-4812-8471-50dea6bbdc87",
   "metadata": {},
   "outputs": [],
   "source": [
    "#iii\n",
    "v3=3.4562"
   ]
  },
  {
   "cell_type": "code",
   "execution_count": 11,
   "id": "32fbd0f9-e2cc-4256-b507-16dd91503e9e",
   "metadata": {},
   "outputs": [],
   "source": [
    "#iv\n",
    "v4=(1,2,3,4,3.321,\"pwskills\",3+6j)"
   ]
  },
  {
   "cell_type": "markdown",
   "id": "c65e70c1-be2a-4bf2-9b59-e278f9fa778a",
   "metadata": {},
   "source": [
    "# Q2. Given are some following variables containing data:\n",
    "# (i) var1 = ‘ ‘\n",
    "# (ii) var2 = ‘[ DS , ML , Python]’\n",
    "# (iii) var3 = [ ‘DS’ , ’ML’ , ‘Python’ ]\n",
    "# (iv) var4 = 1.\n",
    "# What will be the data type of the above given variable."
   ]
  },
  {
   "cell_type": "code",
   "execution_count": 3,
   "id": "41f98f98-e09a-43ad-b54a-7401ad398fae",
   "metadata": {},
   "outputs": [],
   "source": [
    "var1 =' '"
   ]
  },
  {
   "cell_type": "code",
   "execution_count": 4,
   "id": "08c60c30-e507-4a8c-a737-882b75f9adb4",
   "metadata": {},
   "outputs": [
    {
     "data": {
      "text/plain": [
       "str"
      ]
     },
     "execution_count": 4,
     "metadata": {},
     "output_type": "execute_result"
    }
   ],
   "source": [
    "type(var1)"
   ]
  },
  {
   "cell_type": "code",
   "execution_count": 5,
   "id": "e9b56491-ac02-40f9-ac68-65830c8b88df",
   "metadata": {},
   "outputs": [],
   "source": [
    "var2= '[ DS , ML , Python]'"
   ]
  },
  {
   "cell_type": "code",
   "execution_count": 6,
   "id": "14cacdd1-f984-4795-b298-ee0e60aeebec",
   "metadata": {},
   "outputs": [
    {
     "data": {
      "text/plain": [
       "str"
      ]
     },
     "execution_count": 6,
     "metadata": {},
     "output_type": "execute_result"
    }
   ],
   "source": [
    "type(var2)"
   ]
  },
  {
   "cell_type": "code",
   "execution_count": 7,
   "id": "9af8d59e-18f0-4548-a696-5f49b5cfd29a",
   "metadata": {},
   "outputs": [],
   "source": [
    "var3= [ 'DS' , 'ML' , 'Python' ]"
   ]
  },
  {
   "cell_type": "code",
   "execution_count": 8,
   "id": "24ed92d6-7e0e-46a4-b32a-35b6afacfd76",
   "metadata": {},
   "outputs": [
    {
     "data": {
      "text/plain": [
       "list"
      ]
     },
     "execution_count": 8,
     "metadata": {},
     "output_type": "execute_result"
    }
   ],
   "source": [
    "type(var3)"
   ]
  },
  {
   "cell_type": "code",
   "execution_count": 9,
   "id": "bd1d1c82-1018-4c68-990c-5b70c3da25b3",
   "metadata": {},
   "outputs": [],
   "source": [
    "var4=1"
   ]
  },
  {
   "cell_type": "code",
   "execution_count": 10,
   "id": "a6381ec9-ee40-4681-a49d-8857d3716b61",
   "metadata": {},
   "outputs": [
    {
     "data": {
      "text/plain": [
       "int"
      ]
     },
     "execution_count": 10,
     "metadata": {},
     "output_type": "execute_result"
    }
   ],
   "source": [
    "type(var4)"
   ]
  },
  {
   "cell_type": "markdown",
   "id": "f7b2abf0-e356-4e93-bf07-3160c62f722f",
   "metadata": {},
   "source": [
    "# Q3. Explain the use of the following operators using an example:"
   ]
  },
  {
   "cell_type": "code",
   "execution_count": 12,
   "id": "49f4fbdc-a40f-48d0-8ce3-c76c36edb80a",
   "metadata": {},
   "outputs": [
    {
     "data": {
      "text/plain": [
       "3.0"
      ]
     },
     "execution_count": 12,
     "metadata": {},
     "output_type": "execute_result"
    }
   ],
   "source": [
    "#i-> /\n",
    "#/ is used for division operator\n",
    "6/2"
   ]
  },
  {
   "cell_type": "code",
   "execution_count": 13,
   "id": "b111f1d6-1666-4d36-8318-910f4721d400",
   "metadata": {},
   "outputs": [
    {
     "data": {
      "text/plain": [
       "1"
      ]
     },
     "execution_count": 13,
     "metadata": {},
     "output_type": "execute_result"
    }
   ],
   "source": [
    "#ii-> %\n",
    "#% is a modulous operator and is used for obtaining remainder \n",
    "5%2"
   ]
  },
  {
   "cell_type": "code",
   "execution_count": 14,
   "id": "bf6da7e2-106f-4609-a1b3-017e14b78103",
   "metadata": {},
   "outputs": [
    {
     "data": {
      "text/plain": [
       "1"
      ]
     },
     "execution_count": 14,
     "metadata": {},
     "output_type": "execute_result"
    }
   ],
   "source": [
    "#iii-> //\n",
    "#// is a floor division operator\n",
    "5//4"
   ]
  },
  {
   "cell_type": "code",
   "execution_count": 15,
   "id": "c718414f-c3ac-4ab4-b1d0-e9667d82817c",
   "metadata": {},
   "outputs": [
    {
     "data": {
      "text/plain": [
       "125"
      ]
     },
     "execution_count": 15,
     "metadata": {},
     "output_type": "execute_result"
    }
   ],
   "source": [
    "#iv-> **\n",
    "#** is a exponential operator and used to find the power of the given number\n",
    "5**3"
   ]
  },
  {
   "cell_type": "markdown",
   "id": "d9462ee1-13bc-4ee0-9d5c-7d42d529dc11",
   "metadata": {},
   "source": [
    "# Q4. Create a list of length 10 of your choice containing multiple types of data. Using for loop print the element and its data type."
   ]
  },
  {
   "cell_type": "code",
   "execution_count": 17,
   "id": "2bae37a6-81e1-44b4-866c-48db205f1fa7",
   "metadata": {},
   "outputs": [],
   "source": [
    "l1=[1,2,3,4,5,3.456,3+6j,\"princy\",\"pwskills\",\"data science\"]"
   ]
  },
  {
   "cell_type": "code",
   "execution_count": 18,
   "id": "1c60d82e-7bb1-411f-a23d-284cbbd91366",
   "metadata": {},
   "outputs": [
    {
     "name": "stdout",
     "output_type": "stream",
     "text": [
      "1\n",
      "<class 'int'>\n",
      "2\n",
      "<class 'int'>\n",
      "3\n",
      "<class 'int'>\n",
      "4\n",
      "<class 'int'>\n",
      "5\n",
      "<class 'int'>\n",
      "3.456\n",
      "<class 'float'>\n",
      "(3+6j)\n",
      "<class 'complex'>\n",
      "princy\n",
      "<class 'str'>\n",
      "pwskills\n",
      "<class 'str'>\n",
      "data science\n",
      "<class 'str'>\n"
     ]
    }
   ],
   "source": [
    "for i in l1:\n",
    "    print (i)\n",
    "    print(type(i))"
   ]
  },
  {
   "cell_type": "code",
   "execution_count": null,
   "id": "57ecc55f-3073-4eca-9ef8-2d141695e9f0",
   "metadata": {},
   "outputs": [],
   "source": [
    "\n",
    "   "
   ]
  },
  {
   "cell_type": "markdown",
   "id": "f36d2822-685c-4921-9d59-a2d21c5df78e",
   "metadata": {},
   "source": [
    "# Q5. Using a while loop, verify if the number A is purely divisible by number B and if so then how many times it can be divisible."
   ]
  },
  {
   "cell_type": "code",
   "execution_count": 19,
   "id": "81cd5a51-7585-4b86-a324-b5a2167c80db",
   "metadata": {},
   "outputs": [
    {
     "name": "stdin",
     "output_type": "stream",
     "text": [
      "Enter A 8\n",
      "Enter B 32\n"
     ]
    },
    {
     "name": "stdout",
     "output_type": "stream",
     "text": [
      "A is divisible by B\n",
      "The no. of times A divisible by B is  4.0\n"
     ]
    }
   ],
   "source": [
    "a=int(input(\"Enter A\"))\n",
    "b=int(input(\"Enter B\"))\n",
    "while a<b :\n",
    "    if b%a==0 :\n",
    "        print(\"A is divisible by B\")\n",
    "        break\n",
    "        \n",
    "c=b/a\n",
    "print(\"The no. of times A divisible by B is \",c)"
   ]
  },
  {
   "cell_type": "markdown",
   "id": "2e4eff86-d982-4345-a128-59d956eb81b3",
   "metadata": {
    "tags": []
   },
   "source": [
    "# Q6. Create a list containing 25 int type data. Using for loop and if-else condition print if the element is divisible by 3 or not."
   ]
  },
  {
   "cell_type": "code",
   "execution_count": 52,
   "id": "42e3222e-96ae-4b2b-be0e-c202ffa0d8b9",
   "metadata": {},
   "outputs": [
    {
     "name": "stdout",
     "output_type": "stream",
     "text": [
      "The elements divisible by 3 are:  [78, 3, 6, 36, 54, 198, 99]\n",
      "The elements not divisible by 3 are:  [1, 56, 65, 31, 95, 31, 5, 85, 97, 85, 25, 14, 29, 20, 61, 83, 100, 4]\n"
     ]
    }
   ],
   "source": [
    "l=[1,56,65,31,78,95,31,3,5,6,85,97,85,36,25,54,14,198,29,20,61,83,99,100,4]\n",
    "l1=[]\n",
    "l2=[]\n",
    "for i in l:\n",
    "    if i%3==0:\n",
    "        l1.append(i)\n",
    "    else :\n",
    "        l2.append(i)\n",
    "        \n",
    "print(\"The elements divisible by 3 are: \",l1)\n",
    "print(\"The elements not divisible by 3 are: \",l2)"
   ]
  },
  {
   "cell_type": "markdown",
   "id": "2f2bf108-4f4a-4f24-a4b7-cd79c2a4df44",
   "metadata": {},
   "source": [
    "# Q7. What do you understand about mutable and immutable data types? Give examples for both showing this property."
   ]
  },
  {
   "cell_type": "markdown",
   "id": "3772382d-9ccf-42b9-8153-c69962c1050f",
   "metadata": {},
   "source": [
    "# Mutable data type \n",
    "# They are the data types whose value we can change. Their value can be manipulated without creating new object.\n",
    "# Ex: list , dictionaries , sets,etc..."
   ]
  },
  {
   "cell_type": "code",
   "execution_count": 53,
   "id": "0fa158e8-8112-4bbb-ac4a-5c31a752f7e7",
   "metadata": {},
   "outputs": [],
   "source": [
    "l=[1,2,3,6.36,6+8j,\"Princy\"]"
   ]
  },
  {
   "cell_type": "code",
   "execution_count": 54,
   "id": "b1df7202-b5cd-49ad-b4fe-c0142d2b0c56",
   "metadata": {},
   "outputs": [
    {
     "data": {
      "text/plain": [
       "3"
      ]
     },
     "execution_count": 54,
     "metadata": {},
     "output_type": "execute_result"
    }
   ],
   "source": [
    "l[2]"
   ]
  },
  {
   "cell_type": "code",
   "execution_count": 55,
   "id": "4cd13ffa-f832-4434-a7b1-f7d1e21be771",
   "metadata": {},
   "outputs": [],
   "source": [
    "l[2]=5"
   ]
  },
  {
   "cell_type": "code",
   "execution_count": 56,
   "id": "757615f7-cf97-4dd3-8d57-67a773257e80",
   "metadata": {},
   "outputs": [
    {
     "data": {
      "text/plain": [
       "[1, 2, 5, 6.36, (6+8j), 'Princy']"
      ]
     },
     "execution_count": 56,
     "metadata": {},
     "output_type": "execute_result"
    }
   ],
   "source": [
    "l"
   ]
  },
  {
   "cell_type": "code",
   "execution_count": 57,
   "id": "07788e81-af94-464d-a0fc-065e92a6f5e9",
   "metadata": {},
   "outputs": [
    {
     "data": {
      "text/plain": [
       "'Princy'"
      ]
     },
     "execution_count": 57,
     "metadata": {},
     "output_type": "execute_result"
    }
   ],
   "source": [
    "l[-1]"
   ]
  },
  {
   "cell_type": "code",
   "execution_count": 58,
   "id": "4c5b5e3c-23de-4f8c-89eb-c040f7a5faf4",
   "metadata": {},
   "outputs": [],
   "source": [
    "l[-1]='pwskills'"
   ]
  },
  {
   "cell_type": "code",
   "execution_count": 59,
   "id": "18f24732-600a-4806-887d-a5b5f2b1a18a",
   "metadata": {},
   "outputs": [
    {
     "data": {
      "text/plain": [
       "[1, 2, 5, 6.36, (6+8j), 'pwskills']"
      ]
     },
     "execution_count": 59,
     "metadata": {},
     "output_type": "execute_result"
    }
   ],
   "source": [
    "l"
   ]
  },
  {
   "cell_type": "markdown",
   "id": "42dbb31c-0c36-496c-b0bf-f111ee32e981",
   "metadata": {},
   "source": [
    "# Imutable data type\n",
    "# They are the data types whose value we cannot change. Their value cannot be manipulated.\n",
    "# Ex: strings etc"
   ]
  },
  {
   "cell_type": "code",
   "execution_count": 60,
   "id": "a2efbabe-4926-46fb-9e79-b12d17d0133a",
   "metadata": {},
   "outputs": [],
   "source": [
    "s=\"Princy Patel\""
   ]
  },
  {
   "cell_type": "code",
   "execution_count": 61,
   "id": "0bdcf117-2744-4e8d-9d5a-db0830fd4177",
   "metadata": {},
   "outputs": [
    {
     "data": {
      "text/plain": [
       "'r'"
      ]
     },
     "execution_count": 61,
     "metadata": {},
     "output_type": "execute_result"
    }
   ],
   "source": [
    "s[1]"
   ]
  },
  {
   "cell_type": "code",
   "execution_count": 62,
   "id": "b2781223-9d00-44e0-b04b-b8c6fcbc41e0",
   "metadata": {},
   "outputs": [
    {
     "data": {
      "text/plain": [
       "'i'"
      ]
     },
     "execution_count": 62,
     "metadata": {},
     "output_type": "execute_result"
    }
   ],
   "source": [
    "s[2]"
   ]
  },
  {
   "cell_type": "code",
   "execution_count": 63,
   "id": "c18c4086-3514-4c69-814a-ddbfe4592481",
   "metadata": {},
   "outputs": [
    {
     "ename": "TypeError",
     "evalue": "'str' object does not support item assignment",
     "output_type": "error",
     "traceback": [
      "\u001b[0;31m---------------------------------------------------------------------------\u001b[0m",
      "\u001b[0;31mTypeError\u001b[0m                                 Traceback (most recent call last)",
      "Cell \u001b[0;32mIn[63], line 1\u001b[0m\n\u001b[0;32m----> 1\u001b[0m \u001b[43ms\u001b[49m\u001b[43m[\u001b[49m\u001b[38;5;241;43m2\u001b[39;49m\u001b[43m]\u001b[49m\u001b[38;5;241m=\u001b[39ma\n",
      "\u001b[0;31mTypeError\u001b[0m: 'str' object does not support item assignment"
     ]
    }
   ],
   "source": [
    "s[2]=a"
   ]
  },
  {
   "cell_type": "code",
   "execution_count": 64,
   "id": "8bebf1b2-1735-4bfd-ad68-b0ed15e8e6e2",
   "metadata": {},
   "outputs": [
    {
     "data": {
      "text/plain": [
       "'Princy Patel'"
      ]
     },
     "execution_count": 64,
     "metadata": {},
     "output_type": "execute_result"
    }
   ],
   "source": [
    "s"
   ]
  },
  {
   "cell_type": "code",
   "execution_count": null,
   "id": "5a81eb07-91fa-4c88-a09d-39114f8355f8",
   "metadata": {},
   "outputs": [],
   "source": []
  }
 ],
 "metadata": {
  "kernelspec": {
   "display_name": "Python 3 (ipykernel)",
   "language": "python",
   "name": "python3"
  },
  "language_info": {
   "codemirror_mode": {
    "name": "ipython",
    "version": 3
   },
   "file_extension": ".py",
   "mimetype": "text/x-python",
   "name": "python",
   "nbconvert_exporter": "python",
   "pygments_lexer": "ipython3",
   "version": "3.10.8"
  }
 },
 "nbformat": 4,
 "nbformat_minor": 5
}
